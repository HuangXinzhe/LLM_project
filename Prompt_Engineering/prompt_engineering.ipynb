{
 "cells": [
  {
   "cell_type": "markdown",
   "metadata": {},
   "source": [
    "# 提示词工程\n",
    "也称为上下文提示，是一种通过不更新模型的权重/参数来引导LLM行为朝着特定结果的方法。这是与AI有效交流所需结果的过程。提示工程可以用于各种任务，从回答问题到算术推理乃至各种应用领域，理解提示工程，能够帮助我们了解LLM的限制和能力。"
   ]
  },
  {
   "cell_type": "markdown",
   "metadata": {},
   "source": [
    "## 1. 什么是Prompt\n",
    "模型接收以生成响应或完成任务的初始文本输入"
   ]
  },
  {
   "cell_type": "markdown",
   "metadata": {},
   "source": [
    "## 2. Prompt分类\n",
    "- 可解释性分类\n",
    "    - 硬提示\n",
    "    - 软提示\n",
    "- 交互方式分类\n",
    "    - 在线提示\n",
    "    - 离线提示\n",
    "- 应用领域分类\n",
    "    - 信息检索\n",
    "    - 文本生成\n",
    "    - 翻译\n",
    "    - 情感分析\n",
    "    - 编程和代码生成\n",
    "    - 对话\n",
    "    - 特定任务\n",
    "    - 特定任务\n",
    "    - 自定义应用"
   ]
  },
  {
   "cell_type": "markdown",
   "metadata": {},
   "source": [
    "## 3. Prompt的一般要素\n",
    "- 任务\n",
    "- 上下文\n",
    "- 示例\n",
    "- 角色\n",
    "- 格式\n",
    "- 语气"
   ]
  },
  {
   "cell_type": "markdown",
   "metadata": {},
   "source": [
    "## 4. Prompt的工作原理\n",
    "- greedy sampling\n",
    "- beam search\n",
    "- probabilistic sampling\n",
    "- random sampling with temperature\n",
    "- top-k sampling\n",
    "- top-p sampling"
   ]
  },
  {
   "cell_type": "markdown",
   "metadata": {},
   "source": [
    "## 5. 什么是提示工程\n",
    "提示工程涉及选择、编写和组织提示，以便获得所需的输出，主要包括以下方面：\n",
    "\n",
    "Prompt 格式：确定 prompt 的结构和格式，例如，问题形式、描述形式、关键词形式等。\n",
    "\n",
    "Prompt 内容：选择合适的词语、短语或问题，以确保模型理解用户的意图。\n",
    "\n",
    "Prompt 上下文：考虑前文或上下文信息，以确保模型的回应与先前的对话或情境相关。\n",
    "\n",
    "Prompt 编写技巧：使用清晰、简洁和明了的语言编写 prompt，以准确传达用户的需求。\n",
    "\n",
    "Prompt 优化：在尝试不同 prompt 后，根据结果对 prompt 进行调整和优化，以获得更满意的回应。"
   ]
  },
  {
   "cell_type": "markdown",
   "metadata": {},
   "source": [
    "## 6. 提示工程的基本方式\n",
    "- zero-shot\n",
    "- few-shot\n",
    "- instruction prompting"
   ]
  },
  {
   "cell_type": "markdown",
   "metadata": {},
   "source": [
    "## 7. 提示工程的组合方式\n",
    "- 思维链\n",
    "- 递归提示"
   ]
  }
 ],
 "metadata": {
  "language_info": {
   "name": "python"
  }
 },
 "nbformat": 4,
 "nbformat_minor": 2
}
