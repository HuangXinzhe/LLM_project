{
 "cells": [
  {
   "cell_type": "markdown",
   "metadata": {},
   "source": [
    "# BabyAGI\n",
    "AI 支持的任务管理系统\n",
    "- 使用 OpenAI 和 Pinecone API 创建, 优先级排序和执行任务。\n",
    "- 该系统背后的主要思想是基于先前任务的结果和预定义的目标创建任务。\n",
    "- 脚本然后使用 OpenAI 的自然语言处理（NLP）能力根据目标创建新任务, 并使用 Pinecone 存储和检索任务结果以获得上下文. \n",
    "- 这是原始的任务驱动的自驱代理（2023 年 3 月 28 日）的简化版本。"
   ]
  },
  {
   "cell_type": "markdown",
   "metadata": {},
   "source": [
    "## 工作原理\n",
    "BabyAGI通过运行一个无限循环来工作, 该循环执行以下步骤:\n",
    "\n",
    "- 从任务列表中提取第一个任务；\n",
    "\n",
    "- 将任务发送给执行代理, 该代理使用 OpenAI API 根据上下文完成任务；\n",
    "\n",
    "- 整理结果并将其存储在 Pinecone 中；\n",
    "\n",
    "- 基于目标和前一个任务的结果创建新任务, 并根据优先级对任务列表进行排序。\n",
    "\n",
    "execution_agent()函数使用 OpenAI API。它接受两个参数：目标和任务，然后向 OpenAI 的 API 发送一个 Prompt(包括 AI 系统任务的描述, 目标和任务本身), 该 API 结果以 string 形式返回。\n",
    "\n",
    "task_creation_agent()函数使用 OpenAI API 根据目标和前一个任务的结果创建新任务。该函数接受 4 个参数：目标, 前一个任务的结果, 任务描述和当前任务列表。然后它向 OpenAI 的 API 发送一个 prompt, 该 API 返回一个新任务的 string 列表。函数然后将新任务作为字典列表返回, 其中每个字典包含任务的名称。\n",
    "\n",
    "prioritization_agent()函数使用 OpenAI API 对任务列表进行重新排序。该函数接受一个参数, 即当前任务的 ID。它向 OpenAI 的 API 发送一个 prompt, 该 API 返回一个重新排序的任务列表(以数字编号)。\n",
    "\n",
    "      最后, 脚本使用 Pinecone 存储和检索任务结果以获取上下文。脚本根据 YOUR_TABLE_NAME 变量中指定的表名创建一个 Pinecone 索引，然后 Pinecone 将任务结果与任务名称和任何其他元数据(metadata)一起存储在索引中。"
   ]
  },
  {
   "cell_type": "markdown",
   "metadata": {},
   "source": [
    "## 使用\n",
    "Step1 克隆仓库\n",
    "\n",
    "git clone https://github.com/yoheinakajima/babyagi.git\n",
    "\n",
    "cd babyagi\n",
    "\n",
    "Step2 安装所需要的库\n",
    "\n",
    "pip install -r requirements.txt\n",
    "\n",
    "cp .env.example .env\n",
    "\n",
    "Step3 设置OpenAI Key\n",
    "\n",
    "    在.env文件中设置OPENAI_API_KEY、OPENAI_API_MODEL和PINECONE_API_KEY参数，在 PINECONE_ENVIRONMENT 变量中设置 Pinecone 环境，如果要使用weaviate，可以参考https://babyagi.org/docs/weaviate.html\n",
    "\n",
    "Step4 设置存储结果的表名\n",
    "\n",
    "指定存储结果的变量TABLE_NAME值\n",
    "\n",
    "Step5 配置其他变量（可选）\n",
    "\n",
    "     通过设置BABY_NAME变量名来指定BabyAGI实例名，通过设置OBJECTIVE变量名来制定任务管理系统的目标，通过设置INITIAL_TASK变量名来制定第一个任务名。\n",
    "\n",
    "Step6 运行BabyAGI\n",
    "\n",
    "python babyagi.py\n",
    "PS：上述步骤同样也可以部署到docker中，首先需要安装docker和docker-compose，然后执行如下代码：\n",
    "\n",
    "docker-compose up"
   ]
  },
  {
   "cell_type": "code",
   "execution_count": null,
   "metadata": {},
   "outputs": [],
   "source": []
  }
 ],
 "metadata": {
  "language_info": {
   "name": "python"
  }
 },
 "nbformat": 4,
 "nbformat_minor": 2
}
