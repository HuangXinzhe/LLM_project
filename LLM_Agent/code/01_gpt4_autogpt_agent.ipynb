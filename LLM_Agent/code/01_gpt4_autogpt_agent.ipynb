{
 "cells": [
  {
   "cell_type": "markdown",
   "metadata": {},
   "source": [
    "# 使用GPT-4开启AutoGPT Agent自动化任务完整指南\n",
    "Agent可以根据用户任务描述可以拆分任务、规划任务、执行任务"
   ]
  },
  {
   "cell_type": "markdown",
   "metadata": {},
   "source": [
    "AutoGPT是一个实验性开源项目，可以定义一个特定的角色（比如，“图书市场分析师”）和一系列目标（例如，“研究2022年最成功的科幻小说”、“总结它们”、“将摘要保存到文件中”等），并让GPT-4自动创建和执行实现目标所需的所有必要任务，具体包括：\n",
    "- 通过搜索引擎进行研究；\n",
    "- 浏览网站；\n",
    "- 爬取数据；\n",
    "- 本地存储文件；\n",
    "- 使用长期记忆；\n",
    "- 生成具有特殊角色的GPT-3.5机器人程序的新实例以完成子任务"
   ]
  },
  {
   "cell_type": "markdown",
   "metadata": {},
   "source": [
    "## AutoGPT使用\n",
    "```\n",
    "git clone https://github.com/Torantulino/Auto-GPT.git\n",
    "# 切换到 stable分支\n",
    "git checkout stable\n",
    "```\n",
    "安装开发所需库\n",
    "```\n",
    "# 切换到Auto-GPT根目录，执行如下代码\n",
    "pip install -r requirements.txt\n",
    "```\n",
    "复制.env.template为.env文件，把GPT-4 API keys填写到.env文件中字段OPENAI_API_KEY  \n",
    "启动AutoGPT\n",
    "```\n",
    "python -m autogpt\n",
    "# 如果不想使用GPT-4，可以使用如下代码启动AutoGPT\n",
    "python -m autogpt --gpt3only\n",
    "```\n",
    "创建一个新的Agent和多个目标  \n",
    "Auto-GPT生成的结果可以在文件夹“/outputs/logs”或者“/auto_gpt_workspace”查看"
   ]
  },
  {
   "cell_type": "code",
   "execution_count": null,
   "metadata": {},
   "outputs": [],
   "source": []
  }
 ],
 "metadata": {
  "language_info": {
   "name": "python"
  }
 },
 "nbformat": 4,
 "nbformat_minor": 2
}
