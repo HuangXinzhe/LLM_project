{
 "cells": [
  {
   "cell_type": "markdown",
   "metadata": {},
   "source": [
    "# AutoGen介绍\n",
    "Autogen是Microsoft开发的一个用于简化LLM工作流的编排、优化和自动化的框架。它提供了可定制和可交谈的代理，充分利用了大模型（比如GPT-4）的能力，并且可以集成人类智慧和工具，在多个代理之间可以实现自动化聊天。\n",
    "\n",
    "用户在使用的时候，输入一个问题，不同代理之间进行交互最终返回交互后的答案"
   ]
  },
  {
   "cell_type": "markdown",
   "metadata": {},
   "source": [
    "## Autogen实践\n",
    "Autogen是Microsoft开发的一个用于简化LLM工作流的编排、优化和自动化的框架。它提供了可定制和可交谈的代理，充分利用了大模型（比如GPT-4）的能力，并且可以集成人类智慧和工具，在多个代理之间可以实现自动化聊天。"
   ]
  },
  {
   "cell_type": "code",
   "execution_count": null,
   "metadata": {},
   "outputs": [],
   "source": [
    "[\n",
    "    {        \n",
    "        \"model\": \"gpt-4\",        \n",
    "        \"api_key\": \"<your OpenAI API key here>\"    \n",
    "    }\n",
    "]"
   ]
  },
  {
   "cell_type": "code",
   "execution_count": null,
   "metadata": {},
   "outputs": [],
   "source": [
    "!pip install pyautogen"
   ]
  },
  {
   "cell_type": "markdown",
   "metadata": {},
   "source": [
    "以下代码中，如果use_docker标志设置为False，它将在本地Python环境中运行。"
   ]
  },
  {
   "cell_type": "code",
   "execution_count": null,
   "metadata": {},
   "outputs": [],
   "source": [
    "from autogen import AssistantAgent, UserProxyAgent, config_list_from_json\n",
    "code_execution_config = {    \n",
    "    \"work_dir\": \"coding\",    \n",
    "    \"use_docker\": False\n",
    "    }\n",
    "config_list = config_list_from_json(env_or_file=\"OAI_CONFIG_LIST\")\n",
    "assistant = AssistantAgent(\"assistant\", llm_config={\"config_list\": config_list})\n",
    "user_proxy = UserProxyAgent(\"user_proxy\", code_execution_config=code_execution_config)\n",
    "message = \"Create and run the FizzBuzz code.\"\n",
    "user_proxy.initiate_chat(assistant, message=message)"
   ]
  },
  {
   "cell_type": "markdown",
   "metadata": {},
   "source": [
    "AssistantAgent是一个执行LLM的模块，在FizzBuzz中，它是一个创建源代码的模块。输入要使用的API及其密钥作为配置，AssistantAgent中的LLM推理配置可以通过LLM_cofing进行配置。        \n",
    "接下来，让我们建立一个UserProxyAgent。设计用于与个人互动并执行源代码的模块。使用code_execution_config配置执行环境和其他相关设置。        \n",
    "执行的预期结果应该类似于以下内容，将观察到FizzBuzz代码的生成"
   ]
  },
  {
   "cell_type": "markdown",
   "metadata": {},
   "source": [
    "assistant (to user_proxy):\n",
    "This is a very common coding challenge. The task is to print numbers from 1 to 100, but for multiples of 3 print \"Fizz\" instead of the number and for the multiples of 5 print \"Buzz\". For numbers which are multiples of both three and five print \"FizzBuzz\".\n",
    "Here is the Python code that accomplishes the task:\n",
    "```python\n",
    "# filename: fizzbuzz.py\n",
    "for num in range(1, 101):    \n",
    "    if num % 3 == 0 and num % 5 == 0:        \n",
    "        print('FizzBuzz')    \n",
    "    elif num % 3 == 0:        \n",
    "        print('Fizz')    \n",
    "    elif num % 5 == 0:        \n",
    "        print('Buzz')    \n",
    "    else:        \n",
    "        print(num)\n",
    "```\n",
    "To run this script, save it into a file called `fizzbuzz.py`, then run it using Python in a terminal:\n",
    "```shell\n",
    "python3 fizzbuzz.py"
   ]
  },
  {
   "cell_type": "markdown",
   "metadata": {},
   "source": []
  }
 ],
 "metadata": {
  "language_info": {
   "name": "python"
  }
 },
 "nbformat": 4,
 "nbformat_minor": 2
}
